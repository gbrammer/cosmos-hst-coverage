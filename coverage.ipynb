{
 "cells": [
  {
   "cell_type": "markdown",
   "metadata": {
    "toc": true
   },
   "source": [
    "<h1>Table of Contents<span class=\"tocSkip\"></span></h1>\n",
    "<div class=\"toc\"><ul class=\"toc-item\"><li><span><a href=\"#Cosmos-HST\" data-toc-modified-id=\"Cosmos-HST-1\"><span class=\"toc-item-num\">1&nbsp;&nbsp;</span>Cosmos HST</a></span></li></ul></div>"
   ]
  },
  {
   "cell_type": "markdown",
   "metadata": {},
   "source": [
    "# Cosmos HST\n",
    "\n",
    "Check coverage of grizli-processed HST imaging in COSMOS"
   ]
  },
  {
   "cell_type": "code",
   "execution_count": null,
   "metadata": {
    "cell_id": "00000-0c0bc280-5f09-4bb7-8d45-babeba6f8b80",
    "deepnote_cell_type": "code",
    "deepnote_to_be_reexecuted": false,
    "execution_millis": 911,
    "execution_start": 1615289177320,
    "source_hash": "3c4adba8",
    "tags": []
   },
   "outputs": [],
   "source": [
    "import numpy as np\n",
    "from grizli import utils"
   ]
  },
  {
   "cell_type": "code",
   "execution_count": null,
   "metadata": {
    "cell_id": "00001-52c07b24-4fbc-4bbb-99e9-f00b133a7c7b",
    "deepnote_cell_type": "code",
    "deepnote_to_be_reexecuted": false,
    "execution_millis": 27,
    "execution_start": 1615289435793,
    "source_hash": "739b3dd8",
    "tags": []
   },
   "outputs": [],
   "source": [
    "tab = utils.read_catalog('cosmos_HST_exposure_catalog_2020.03.09.fits')\n",
    "xfootprints = np.load('cosmos_HST_exposure_catalog_2020.03.09_footprints.npy', \n",
    "                     allow_pickle=True)\n",
    "\n",
    "# Data format issue\n",
    "footprints = [[fp[0], fp[1]] for fp in xfootprints]"
   ]
  },
  {
   "cell_type": "code",
   "execution_count": null,
   "metadata": {
    "cell_id": "00002-3cfa2f0b-c5c9-44dc-ac48-6d9d599337c6",
    "deepnote_cell_type": "code",
    "deepnote_to_be_reexecuted": false,
    "execution_millis": 3,
    "execution_start": 1615289447921,
    "source_hash": "b6841aef",
    "tags": []
   },
   "outputs": [],
   "source": [
    "import astropy.units as u\n",
    "\n",
    "def check_hst_overlaps(ra, dec, tab, footprints, label=None, sep=3*u.arcmin):\n",
    "    \"\"\"\n",
    "    Check overlapping HST exposures at a given position\n",
    "    \"\"\"\n",
    "    #sep = 10*u.arcmin\n",
    "    from grizli import utils\n",
    "    \n",
    "    from matplotlib.patches import PathPatch\n",
    "    from matplotlib.path import Path\n",
    "    import matplotlib.pyplot as plt\n",
    "    \n",
    "    this = utils.GTable()\n",
    "    this['ra'] = [ra]\n",
    "    this['dec'] = [dec]\n",
    "\n",
    "    idx, dr = this.match_to_catalog_sky(tab)\n",
    "    near = dr < sep\n",
    "\n",
    "    fig, ax = plt.subplots(1,1,figsize=(5,5))\n",
    "    if label is None:\n",
    "        label = f'{ra:.6f} {dec:.6f}'\n",
    "        \n",
    "    ax.scatter([ra], [dec],  color='r', marker='*', zorder=100, label=label)\n",
    "    ax.scatter(tab['ra'][near], tab['dec'][near], marker='+', color='0.8')\n",
    "\n",
    "    in_patch = near & True\n",
    "\n",
    "    for i in np.where(near)[0]:\n",
    "        path = Path(np.array(footprints[i]).T)\n",
    "        in_path = path.contains_point((ra, dec))\n",
    "        if in_path:\n",
    "            patch = PathPatch(path, color='orange', alpha=0.2)\n",
    "        else:\n",
    "            patch = PathPatch(path, color='k', alpha=0.1)\n",
    "            in_patch[i] = False\n",
    "\n",
    "        ax.add_patch(patch)\n",
    "    \n",
    "    cosd = np.cos(dec/180*np.pi)\n",
    "    ax.set_aspect(1/cosd)\n",
    "    ax.grid()\n",
    "    ax.legend(loc='upper center')\n",
    "    ax.set_xlim(*ax.get_xlim()[::-1])\n",
    "    \n",
    "    fig.tight_layout(pad=0.5)\n",
    "    \n",
    "    return fig, in_patch"
   ]
  },
  {
   "cell_type": "code",
   "execution_count": null,
   "metadata": {
    "cell_id": "00003-e0554980-22fc-4777-8e7a-6086067156e9",
    "deepnote_cell_type": "code",
    "deepnote_to_be_reexecuted": false,
    "execution_millis": 383,
    "execution_start": 1615289623663,
    "source_hash": "77bc804",
    "tags": []
   },
   "outputs": [],
   "source": [
    "# Kriek et al. massive galaxy\n",
    "ra, dec = 150.07393, 2.2980\n",
    "\n",
    "# No filter preselection\n",
    "sel_filts = None \n",
    "\n",
    "# Limit filters\n",
    "sel_filts = ['f160w']"
   ]
  },
  {
   "cell_type": "code",
   "execution_count": null,
   "metadata": {},
   "outputs": [],
   "source": [
    "if sel_filts is not None:\n",
    "    sel = np.zeros(len(tab), dtype=bool)\n",
    "    for f in sel_filts:\n",
    "        sel |= tab['filter'] == f\n",
    "    \n",
    "    sel = np.where(sel)[0]\n",
    "    tab_sel = tab[sel]\n",
    "    fp_sel = [footprints[i] for i in sel]\n",
    "    \n",
    "else:\n",
    "    tab_sel = tab\n",
    "    fp_sel = footprints\n",
    "    \n",
    "_fig, _sel = check_hst_overlaps(ra, dec, tab_sel, fp_sel, sep=4*u.arcmin)"
   ]
  },
  {
   "cell_type": "code",
   "execution_count": null,
   "metadata": {
    "cell_id": "00004-ff0854ca-3bc4-44a5-a880-6596ddad9c8d",
    "deepnote_cell_type": "code",
    "deepnote_to_be_reexecuted": false,
    "execution_millis": 4,
    "execution_start": 1615289938753,
    "source_hash": "4003e9ef",
    "tags": []
   },
   "outputs": [],
   "source": [
    "tab_sel[_sel]"
   ]
  },
  {
   "cell_type": "code",
   "execution_count": null,
   "metadata": {},
   "outputs": [],
   "source": [
    "# Exposures\n",
    "url = 'https://s3.amazonaws.com/cosmos-dash/Pipeline/{root}/Prep/{file}'\n",
    "\n",
    "i = 0\n",
    "url_i = url.format(root=tab_sel[_sel]['root'][i], file=tab_sel[_sel]['file'][i])\n",
    "#os.system('wget ')\n",
    "print(url_i)"
   ]
  },
  {
   "cell_type": "code",
   "execution_count": null,
   "metadata": {},
   "outputs": [],
   "source": [
    "# Fetch data\n",
    "os.system(f'wget {url_i}')"
   ]
  }
 ],
 "metadata": {
  "deepnote": {},
  "deepnote_execution_queue": [],
  "deepnote_notebook_id": "8539a449-c76d-4ef3-bace-5ed0a59f9f99",
  "kernelspec": {
   "display_name": "Python 3",
   "language": "python",
   "name": "python3"
  },
  "language_info": {
   "codemirror_mode": {
    "name": "ipython",
    "version": 3
   },
   "file_extension": ".py",
   "mimetype": "text/x-python",
   "name": "python",
   "nbconvert_exporter": "python",
   "pygments_lexer": "ipython3",
   "version": "3.6.10"
  },
  "toc": {
   "base_numbering": 1,
   "nav_menu": {},
   "number_sections": true,
   "sideBar": true,
   "skip_h1_title": false,
   "title_cell": "Table of Contents",
   "title_sidebar": "Contents",
   "toc_cell": true,
   "toc_position": {},
   "toc_section_display": true,
   "toc_window_display": true
  }
 },
 "nbformat": 4,
 "nbformat_minor": 2
}
